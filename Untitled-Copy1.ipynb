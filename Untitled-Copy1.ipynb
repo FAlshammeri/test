{
 "cells": [
  {
   "cell_type": "code",
   "execution_count": 44,
   "id": "312560c5",
   "metadata": {},
   "outputs": [
    {
     "name": "stdout",
     "output_type": "stream",
     "text": [
      "                                                title  \\\n",
      "0   تحكم بنك اليابان بمنحنى عوائد السندات - مرونة ...   \n",
      "1   بنك التنمية: إخلاء الطرف يكون متاحًا في هذا ال...   \n",
      "2   لأول مرة.. مطلوبات البنوك من «الخاص» تتجاوز 2....   \n",
      "3   بنك الصين الشعبي يدلي بتصريحات هامة حول السياس...   \n",
      "4   نتائج اجتماع بنك اليابان – شهر يوليو 2023 - ال...   \n",
      "..                                                ...   \n",
      "95  567 مليار ريال إجمالي القروض العقارية الممنوحة...   \n",
      "96  بنك ظفار 'خيارك الأول' في سلطنة عمان ضمن استرا...   \n",
      "97  أحد أكبر البنوك الاستثمارية في العالم يفجر مفا...   \n",
      "98  بنك \"بريكس\": الناتج المحلي لدولنا يمثل ربع الن...   \n",
      "99  اجتماع مجموعة العشرين: البنك الدولي يحذّر من ت...   \n",
      "\n",
      "                                                 link  \n",
      "0   https://news.google.com/rss/articles/CBMi1QJod...  \n",
      "1   https://news.google.com/rss/articles/CBMi4wFod...  \n",
      "2   https://news.google.com/rss/articles/CBMiLWh0d...  \n",
      "3   https://news.google.com/rss/articles/CBMi3AJod...  \n",
      "4   https://news.google.com/rss/articles/CBMi_AFod...  \n",
      "..                                                ...  \n",
      "95  https://news.google.com/rss/articles/CBMi5gFod...  \n",
      "96  https://news.google.com/rss/articles/CBMi-AJod...  \n",
      "97  https://news.google.com/rss/articles/CBMiNWh0d...  \n",
      "98  https://news.google.com/rss/articles/CBMixgJod...  \n",
      "99  https://news.google.com/rss/articles/CBMidGh0d...  \n",
      "\n",
      "[100 rows x 2 columns]\n"
     ]
    }
   ],
   "source": [
    "from pygooglenews import GoogleNews\n",
    "import pandas as pd\n",
    "gn = GoogleNews(lang = 'ar', country = 'sa')\n",
    "\n",
    "def get_titles(search):\n",
    "    articles = []\n",
    "    newsitems = gn.topic_headlines('business')\n",
    "    newsitems = gn.search(search)\n",
    "    newsitem = newsitems['entries']\n",
    "    for item in newsitem:\n",
    "        article = {\n",
    "            'title':item.title,\n",
    "            'link': item.link          \n",
    "        }\n",
    "        articles.append(article)\n",
    "    return articles\n",
    "\n",
    "\n",
    "df = pd.DataFrame(get_titles('بنك -مصر'))\n",
    "print(df)\n"
   ]
  },
  {
   "cell_type": "code",
   "execution_count": null,
   "id": "3bb41c32",
   "metadata": {},
   "outputs": [],
   "source": []
  },
  {
   "cell_type": "code",
   "execution_count": null,
   "id": "30989c15",
   "metadata": {},
   "outputs": [],
   "source": []
  }
 ],
 "metadata": {
  "kernelspec": {
   "display_name": "Python 3 (ipykernel)",
   "language": "python",
   "name": "python3"
  },
  "language_info": {
   "codemirror_mode": {
    "name": "ipython",
    "version": 3
   },
   "file_extension": ".py",
   "mimetype": "text/x-python",
   "name": "python",
   "nbconvert_exporter": "python",
   "pygments_lexer": "ipython3",
   "version": "3.11.3"
  }
 },
 "nbformat": 4,
 "nbformat_minor": 5
}
