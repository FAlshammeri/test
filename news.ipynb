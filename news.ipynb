{
 "cells": [
  {
   "cell_type": "code",
   "execution_count": null,
   "id": "312560c5",
   "metadata": {},
   "outputs": [
    {
     "ename": "AttributeError",
     "evalue": "'dict' object has no attribute 'feed'",
     "output_type": "error",
     "traceback": [
      "\u001b[1;31m---------------------------------------------------------------------------\u001b[0m",
      "\u001b[1;31mAttributeError\u001b[0m                            Traceback (most recent call last)",
      "Cell \u001b[1;32mIn[21], line 19\u001b[0m\n\u001b[0;32m     10\u001b[0m     \u001b[38;5;28mprint\u001b[39m (\u001b[38;5;28mlist\u001b[39m(newsitems\u001b[38;5;241m.\u001b[39mfeed\u001b[38;5;241m.\u001b[39mkeys()))\n\u001b[0;32m     11\u001b[0m    \u001b[38;5;66;03m# for item in newsitem:\u001b[39;00m\n\u001b[0;32m     12\u001b[0m    \u001b[38;5;66;03m#     article = {\u001b[39;00m\n\u001b[0;32m     13\u001b[0m    \u001b[38;5;66;03m#         'title':item.title,\u001b[39;00m\n\u001b[1;32m   (...)\u001b[0m\n\u001b[0;32m     16\u001b[0m    \u001b[38;5;66;03m#     articles.append(article)\u001b[39;00m\n\u001b[0;32m     17\u001b[0m    \u001b[38;5;66;03m#  return articles\u001b[39;00m\n\u001b[1;32m---> 19\u001b[0m get_titles(\u001b[38;5;124m'\u001b[39m\u001b[38;5;124mبنك -مصر\u001b[39m\u001b[38;5;124m'\u001b[39m)\n",
      "Cell \u001b[1;32mIn[21], line 10\u001b[0m, in \u001b[0;36mget_titles\u001b[1;34m(search)\u001b[0m\n\u001b[0;32m      8\u001b[0m newsitems \u001b[38;5;241m=\u001b[39m gn\u001b[38;5;241m.\u001b[39msearch(search)\n\u001b[0;32m      9\u001b[0m newsitem \u001b[38;5;241m=\u001b[39m newsitems[\u001b[38;5;124m'\u001b[39m\u001b[38;5;124mentries\u001b[39m\u001b[38;5;124m'\u001b[39m]\n\u001b[1;32m---> 10\u001b[0m \u001b[38;5;28mprint\u001b[39m (\u001b[38;5;28mlist\u001b[39m(newsitems\u001b[38;5;241m.\u001b[39mfeed\u001b[38;5;241m.\u001b[39mkeys()))\n",
      "\u001b[1;31mAttributeError\u001b[0m: 'dict' object has no attribute 'feed'"
     ]
    }
   ],
   "source": [
    "from pygooglenews import GoogleNews\n",
    "import pandas as pd\n",
    "gn = GoogleNews(lang = 'ar', country = 'sa')\n",
    "\n",
    "def get_titles(search):\n",
    "    articles = []\n",
    "    newsitems = gn.topic_headlines('business')\n",
    "    newsitems = gn.search(search)\n",
    "    newsitem = newsitems['entries']\n",
    "     for item in newsitem:\n",
    "        article = {\n",
    "            'title':item.title,\n",
    "            'link': item.link          \n",
    "        }\n",
    "        articles.append(article)\n",
    "     return articles\n",
    "\n",
    "df = pd.DataFrame(get_titles('بنك -مصر'))\n",
    "print(df)\n"
   ]
  },
  {
   "cell_type": "code",
   "execution_count": null,
   "id": "3bb41c32",
   "metadata": {},
   "outputs": [],
   "source": []
  },
  {
   "cell_type": "code",
   "execution_count": null,
   "id": "30989c15",
   "metadata": {},
   "outputs": [],
   "source": []
  }
 ],
 "metadata": {
  "kernelspec": {
   "display_name": "Python 3 (ipykernel)",
   "language": "python",
   "name": "python3"
  },
  "language_info": {
   "codemirror_mode": {
    "name": "ipython",
    "version": 3
   },
   "file_extension": ".py",
   "mimetype": "text/x-python",
   "name": "python",
   "nbconvert_exporter": "python",
   "pygments_lexer": "ipython3",
   "version": "3.11.3"
  }
 },
 "nbformat": 4,
 "nbformat_minor": 5
}
